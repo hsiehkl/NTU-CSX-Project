{
 "cells": [
  {
   "cell_type": "markdown",
   "metadata": {},
   "source": [
    "# Week_3_HW\n",
    "## 依照寄送方式探討訂單平均消費金額及交易狀態"
   ]
  },
  {
   "cell_type": "code",
   "execution_count": 2,
   "metadata": {},
   "outputs": [],
   "source": [
    "import matplotlib.pyplot as plt\n",
    "import pandas as pd\n",
    "import numpy as np\n",
    "%matplotlib inline"
   ]
  },
  {
   "cell_type": "code",
   "execution_count": 3,
   "metadata": {},
   "outputs": [
    {
     "name": "stderr",
     "output_type": "stream",
     "text": [
      "/anaconda3/lib/python3.6/site-packages/IPython/core/interactiveshell.py:2785: DtypeWarning: Columns (23) have mixed types. Specify dtype option on import or set low_memory=False.\n",
      "  interactivity=interactivity, compiler=compiler, result=result)\n"
     ]
    }
   ],
   "source": [
    "df = pd.read_csv('../Orders.csv')"
   ]
  },
  {
   "cell_type": "code",
   "execution_count": 4,
   "metadata": {},
   "outputs": [
    {
     "name": "stdout",
     "output_type": "stream",
     "text": [
      "<class 'pandas.core.frame.DataFrame'>\n",
      "RangeIndex: 5495276 entries, 0 to 5495275\n",
      "Data columns (total 28 columns):\n",
      "DateId                         int64\n",
      "MemberId                       int64\n",
      "OrderGroupCode                 object\n",
      "TrackSourceTypeDef             object\n",
      "TrackDeviceTypeDef             object\n",
      "PayProfileTypeDef              object\n",
      "SalesOrderSlaveId              int64\n",
      "SalePageId                     int64\n",
      "IsMajor                        bool\n",
      "IsGift                         bool\n",
      "IsSalePageGift                 bool\n",
      "Quantity                       int64\n",
      "UnitPrice                      float64\n",
      "PromotionDiscount              float64\n",
      "ECouponId                      int64\n",
      "ECouponDiscount                float64\n",
      "SalesOrderSlaveTotalPayment    float64\n",
      "SalesOrderSlaveDateTime        object\n",
      "SalesOrderReceiverId           int64\n",
      "City                           object\n",
      "District                       object\n",
      "ZipCode                        float64\n",
      "StoreName                      object\n",
      "StoreId                        object\n",
      "DeliverTypeDef                 object\n",
      "StatusDef                      object\n",
      "ReturnGoodsDateId              float64\n",
      "CauseDef                       object\n",
      "dtypes: bool(3), float64(6), int64(7), object(12)\n",
      "memory usage: 1.0+ GB\n"
     ]
    }
   ],
   "source": [
    "df.info()"
   ]
  },
  {
   "cell_type": "code",
   "execution_count": 48,
   "metadata": {},
   "outputs": [
    {
     "data": {
      "text/plain": [
       "array(['Finish', 'Overdue', 'Cancel', 'ReturnGoods', 'WaitingToShipping',\n",
       "       'CreditCheckFail'], dtype=object)"
      ]
     },
     "execution_count": 48,
     "metadata": {},
     "output_type": "execute_result"
    }
   ],
   "source": [
    "df.DeliverTypeDef.unique()\n",
    "df.StatusDef.unique()"
   ]
  },
  {
   "cell_type": "code",
   "execution_count": 6,
   "metadata": {},
   "outputs": [],
   "source": [
    "cart_data = df.groupby([\"DeliverTypeDef\", \"OrderGroupCode\"])"
   ]
  },
  {
   "cell_type": "code",
   "execution_count": 9,
   "metadata": {},
   "outputs": [],
   "source": [
    "cart_df = pd.DataFrame()\n",
    "cart_df[\"SalesOrderSlaveTotalPayment\"] = cart_data['SalesOrderSlaveTotalPayment'].sum()\n",
    "cart_df[\"PromotionDiscount\"] = cart_data[\"PromotionDiscount\"].sum()\n",
    "cart_df[\"StatusDef\"] = cart_data[\"StatusDef\"].first()"
   ]
  },
  {
   "cell_type": "code",
   "execution_count": 10,
   "metadata": {},
   "outputs": [
    {
     "data": {
      "text/html": [
       "<div>\n",
       "<style scoped>\n",
       "    .dataframe tbody tr th:only-of-type {\n",
       "        vertical-align: middle;\n",
       "    }\n",
       "\n",
       "    .dataframe tbody tr th {\n",
       "        vertical-align: top;\n",
       "    }\n",
       "\n",
       "    .dataframe thead th {\n",
       "        text-align: right;\n",
       "    }\n",
       "</style>\n",
       "<table border=\"1\" class=\"dataframe\">\n",
       "  <thead>\n",
       "    <tr style=\"text-align: right;\">\n",
       "      <th></th>\n",
       "      <th></th>\n",
       "      <th>SalesOrderSlaveTotalPayment</th>\n",
       "      <th>PromotionDiscount</th>\n",
       "      <th>StatusDef</th>\n",
       "    </tr>\n",
       "    <tr>\n",
       "      <th>DeliverTypeDef</th>\n",
       "      <th>OrderGroupCode</th>\n",
       "      <th></th>\n",
       "      <th></th>\n",
       "      <th></th>\n",
       "    </tr>\n",
       "  </thead>\n",
       "  <tbody>\n",
       "    <tr>\n",
       "      <th rowspan=\"30\" valign=\"top\">Family</th>\n",
       "      <th>b\"  y!'[+Jr\\xd6\\xd2D@\\x1e\\xee\\x17lm\\xca\\xda\"</th>\n",
       "      <td>837.0</td>\n",
       "      <td>0.0</td>\n",
       "      <td>Finish</td>\n",
       "    </tr>\n",
       "    <tr>\n",
       "      <th>b\" #\\xa6'/\\x82\\xe7`\\xb6\\xb6\\xfd\\xa9p\\x9cIr\\x11\\x7fr\\x12\"</th>\n",
       "      <td>647.0</td>\n",
       "      <td>0.0</td>\n",
       "      <td>Cancel</td>\n",
       "    </tr>\n",
       "    <tr>\n",
       "      <th>b\" #\\xfeH\\xbc\\xeb2\\x1a\\xd8\\xd5n\\x0b'\\x0e6CEf\\xf6e\"</th>\n",
       "      <td>690.0</td>\n",
       "      <td>0.0</td>\n",
       "      <td>Finish</td>\n",
       "    </tr>\n",
       "    <tr>\n",
       "      <th>b\" $_\\xf1\\xaf\\xaa\\x11~\\x8c\\xe4nj\\xde#\\x06'\\xf7\\x7f,\\xba\"</th>\n",
       "      <td>500.0</td>\n",
       "      <td>-129.0</td>\n",
       "      <td>Finish</td>\n",
       "    </tr>\n",
       "    <tr>\n",
       "      <th>b\" ''\\xc9\\x13I\\x0e\\x88\\x13\\x95\\xb6\\x8f\\x0e\\xeb\\x91t\\xf1\\xfd\\x1e\\x00\"</th>\n",
       "      <td>2587.0</td>\n",
       "      <td>-289.0</td>\n",
       "      <td>Finish</td>\n",
       "    </tr>\n",
       "    <tr>\n",
       "      <th>b\" ')\\xdd\\x1e\\x0f\\x9d\\xf7\\x13\\x047l\\x98\\x84\\xba\\xeeu\\xd8\\x18\\x0e\"</th>\n",
       "      <td>507.0</td>\n",
       "      <td>0.0</td>\n",
       "      <td>Finish</td>\n",
       "    </tr>\n",
       "    <tr>\n",
       "      <th>b\" ',\\xbb\\xd9\\xde\\x06\\t\\xc4\\x11ZP\\x89\\xdaU#\\xa6+aY\"</th>\n",
       "      <td>582.0</td>\n",
       "      <td>0.0</td>\n",
       "      <td>Finish</td>\n",
       "    </tr>\n",
       "    <tr>\n",
       "      <th>b\" '\\n\\x8b\\xdfh2\\xbe\\x82\\xf6\\x8f\\xea\\x1b\\x07\\xe3\\x0bw\\xc0\\xc07\"</th>\n",
       "      <td>649.0</td>\n",
       "      <td>0.0</td>\n",
       "      <td>Cancel</td>\n",
       "    </tr>\n",
       "    <tr>\n",
       "      <th>b\" '\\x0b'\\xac&lt;\\xb52\\x1ar\\xcfX\\x98:\\xa2\\xea\\xdf\\xd6\\xbb@\"</th>\n",
       "      <td>796.0</td>\n",
       "      <td>0.0</td>\n",
       "      <td>Finish</td>\n",
       "    </tr>\n",
       "    <tr>\n",
       "      <th>b\" '\\x15\\xa0\\x15\\xea\\x8f\\xc5\\xe6\\xedk\\xba\\x0cP\\xbe\\x16&gt;i\\xec0\"</th>\n",
       "      <td>629.0</td>\n",
       "      <td>0.0</td>\n",
       "      <td>Finish</td>\n",
       "    </tr>\n",
       "    <tr>\n",
       "      <th>b\" '|\\x06S\\xbed\\\\g\\x1a\\xca\\n-a\\x9e\\xe7\\x15DL\\xc9\"</th>\n",
       "      <td>2636.0</td>\n",
       "      <td>-267.0</td>\n",
       "      <td>Finish</td>\n",
       "    </tr>\n",
       "    <tr>\n",
       "      <th>b\" ,B\\xd9C\\xcf*\\xa1',/\\xcb{\\xe6\\xf4z\\xbd\\xcc\\x84\\xca\"</th>\n",
       "      <td>1165.0</td>\n",
       "      <td>-100.0</td>\n",
       "      <td>Finish</td>\n",
       "    </tr>\n",
       "    <tr>\n",
       "      <th>b\" ,h\\xc0\\xe1\\x1d2\\x93)'\\xf2\\xfb\\xd7\\xf4\\xba\\xb2]\\xe3f[\"</th>\n",
       "      <td>435.0</td>\n",
       "      <td>0.0</td>\n",
       "      <td>Overdue</td>\n",
       "    </tr>\n",
       "    <tr>\n",
       "      <th>b\" -\\x04\\x85\\xb6\\xd3'\\xf4\\x10\\xc2\\x01\\xd8\\xc2\\x01&gt;@\\x99f\\xb3\\xdc\"</th>\n",
       "      <td>688.0</td>\n",
       "      <td>0.0</td>\n",
       "      <td>Overdue</td>\n",
       "    </tr>\n",
       "    <tr>\n",
       "      <th>b\" /\\x0f\\xa5\\xe7\\xa3?\\x87\\x19\\xe2D5\\n\\x1d'\\x05\\x15\\xc738\"</th>\n",
       "      <td>2119.0</td>\n",
       "      <td>-556.0</td>\n",
       "      <td>Finish</td>\n",
       "    </tr>\n",
       "    <tr>\n",
       "      <th>b\" /\\xa1'\\xfd\\xd0b\\x94\\xa0q0\\n\\xee{h\\xd4\\xf7\\xd4\\x9e\\x87\"</th>\n",
       "      <td>698.0</td>\n",
       "      <td>-201.0</td>\n",
       "      <td>Finish</td>\n",
       "    </tr>\n",
       "    <tr>\n",
       "      <th>b\" 1_\\xc9\\xaf\\x15'\\x01\\\\\\xc2\\xebAq\\x1a\\x91\\xd60\\x93!\\xd7\"</th>\n",
       "      <td>1105.0</td>\n",
       "      <td>0.0</td>\n",
       "      <td>Overdue</td>\n",
       "    </tr>\n",
       "    <tr>\n",
       "      <th>b\" 2P(\\xd2\\xd2\\x05\\x81)n\\xa5\\x15\\xbb\\x9b'\\xd2K\\x18K\\x16\"</th>\n",
       "      <td>868.0</td>\n",
       "      <td>-108.0</td>\n",
       "      <td>Finish</td>\n",
       "    </tr>\n",
       "    <tr>\n",
       "      <th>b\" 3\\x7f\\x87\\xfb\\x95\\xc3\\xfb\\xc7\\x86\\x8d\\x8cd\\xfb\\x8ceM\\xd2\\xb0'\"</th>\n",
       "      <td>1211.0</td>\n",
       "      <td>-590.0</td>\n",
       "      <td>Overdue</td>\n",
       "    </tr>\n",
       "    <tr>\n",
       "      <th>b\" 50\\xf2\\xe9\\xbb\\xca'\\xfb\\x1a}\\x91\\xd1\\x94\\x0f\\xean\\xfes@\"</th>\n",
       "      <td>774.0</td>\n",
       "      <td>0.0</td>\n",
       "      <td>Finish</td>\n",
       "    </tr>\n",
       "    <tr>\n",
       "      <th>b\" 5N\\x02'S\\xb0\\xf9\\x18\\xfeNP\\xe9h\\x0f\\xd1\\xc1x\\xa4\\xc6\"</th>\n",
       "      <td>1430.0</td>\n",
       "      <td>0.0</td>\n",
       "      <td>Finish</td>\n",
       "    </tr>\n",
       "    <tr>\n",
       "      <th>b\" 6\\xb1^\\xf2S\\x18\\xe6\\xc9saU'#\\xb4Q\\xc9\\xac\\\\\\xaa\"</th>\n",
       "      <td>450.0</td>\n",
       "      <td>0.0</td>\n",
       "      <td>Finish</td>\n",
       "    </tr>\n",
       "    <tr>\n",
       "      <th>b\" 8\\x1e\\xf1/\\xdcB\\x0e't\\xe4\\xc5\\x0fy \\x0f\\x01H\\xd76\"</th>\n",
       "      <td>295.0</td>\n",
       "      <td>0.0</td>\n",
       "      <td>Cancel</td>\n",
       "    </tr>\n",
       "    <tr>\n",
       "      <th>b\" 8\\xa7\\xd3\\x19\\x91\\x96q\\x13I.\\xac\\xb3\\xa9\\xe5\\xce'\\xa9\\xe5\\xef\"</th>\n",
       "      <td>998.0</td>\n",
       "      <td>-100.0</td>\n",
       "      <td>Finish</td>\n",
       "    </tr>\n",
       "    <tr>\n",
       "      <th>b\" ?%J\\xfb\\xa9n\\x0b\\xa0%\\xa7\\xd8'\\x11\\xcf\\xf9\\x1f\\x0fkW\"</th>\n",
       "      <td>529.0</td>\n",
       "      <td>0.0</td>\n",
       "      <td>Cancel</td>\n",
       "    </tr>\n",
       "    <tr>\n",
       "      <th>b\" ?'\\t1\\x9a\\xe5\\x96\\x99\\x94\\xe5q\\xa5j\\xf5\\xb1\\x1fiO\\x9a\"</th>\n",
       "      <td>739.0</td>\n",
       "      <td>0.0</td>\n",
       "      <td>Finish</td>\n",
       "    </tr>\n",
       "    <tr>\n",
       "      <th>b\" @\\x1dZ\\xbd\\xc0\\xc5\\xaa\\xc0\\xa2\\xa1\\xba\\x0f'\\xbd\\x9cU\\x14\\x87?\"</th>\n",
       "      <td>1294.0</td>\n",
       "      <td>-100.0</td>\n",
       "      <td>Finish</td>\n",
       "    </tr>\n",
       "    <tr>\n",
       "      <th>b\" B\\x8a3\\x8f\\xfc\\xf2\\xa1\\x9ez\\x84\\xe9`\\x06tZ'\\xe3b3\"</th>\n",
       "      <td>988.0</td>\n",
       "      <td>-261.0</td>\n",
       "      <td>Finish</td>\n",
       "    </tr>\n",
       "    <tr>\n",
       "      <th>b\" E\\xe6\\x1f\\x18E\\xac\\xf8\\xe9\\x88\\xf9\\xc3\\x19\\x93\\x8c\\x8cU\\x18'+\"</th>\n",
       "      <td>1515.0</td>\n",
       "      <td>-150.0</td>\n",
       "      <td>Finish</td>\n",
       "    </tr>\n",
       "    <tr>\n",
       "      <th>b\" Ed\\x1f&gt;\\x01'\\x9c\\xa32]0\\x86\\xdcyr\\x8b{}b\"</th>\n",
       "      <td>988.0</td>\n",
       "      <td>-448.0</td>\n",
       "      <td>ReturnGoods</td>\n",
       "    </tr>\n",
       "    <tr>\n",
       "      <th>...</th>\n",
       "      <th>...</th>\n",
       "      <td>...</td>\n",
       "      <td>...</td>\n",
       "      <td>...</td>\n",
       "    </tr>\n",
       "    <tr>\n",
       "      <th rowspan=\"30\" valign=\"top\">SevenEleven</th>\n",
       "      <th>b'~{\\xc7xt\\xe0Y\\xe04X\\xd0\\xe6S\\x1cc\\x1d\\xe4\\xd2\\x1e&gt;'</th>\n",
       "      <td>667.0</td>\n",
       "      <td>-231.0</td>\n",
       "      <td>Overdue</td>\n",
       "    </tr>\n",
       "    <tr>\n",
       "      <th>b'~{\\xee\\xdc\\x92\\xb0x\\xe3w\\x1b\\xcf\\x17\\xcb\\xd5\\xa6\\x89ej\\x91h'</th>\n",
       "      <td>298.0</td>\n",
       "      <td>0.0</td>\n",
       "      <td>Finish</td>\n",
       "    </tr>\n",
       "    <tr>\n",
       "      <th>b'~{]|1c^/\\x9dG\\xd1\\xdc\\xe9#\\xa3Q)Aw\\xde'</th>\n",
       "      <td>548.0</td>\n",
       "      <td>0.0</td>\n",
       "      <td>Cancel</td>\n",
       "    </tr>\n",
       "    <tr>\n",
       "      <th>b'~{am\\xa6\\x06\\xe5\\xae\\x84\\xad\\xe3\\xaaU\\xdb\\xd9E\\xfejVm'</th>\n",
       "      <td>1294.0</td>\n",
       "      <td>0.0</td>\n",
       "      <td>Finish</td>\n",
       "    </tr>\n",
       "    <tr>\n",
       "      <th>b'~{p\\xe0\\x14^CT}\\xc6\\xa4\\x81\\xf0+\\nb\\xe5a\\xae('</th>\n",
       "      <td>350.0</td>\n",
       "      <td>0.0</td>\n",
       "      <td>Finish</td>\n",
       "    </tr>\n",
       "    <tr>\n",
       "      <th>b'~|\\x08\\x9bb\\xb7\\xe4H\\x8b\\xc1[\\xe5S\\xc8\\xf8\\xb5I]\\xb2\\xf3'</th>\n",
       "      <td>1107.0</td>\n",
       "      <td>-100.0</td>\n",
       "      <td>Finish</td>\n",
       "    </tr>\n",
       "    <tr>\n",
       "      <th>b'~|\\x17\\x1b\\xc4\\xe2\\xc3\\x84\\xae&amp;V4\\x06S\\xc3\\xe8\\xff\\x11w_'</th>\n",
       "      <td>754.0</td>\n",
       "      <td>0.0</td>\n",
       "      <td>Finish</td>\n",
       "    </tr>\n",
       "    <tr>\n",
       "      <th>b'~|\\x80\\x16*~:Y\\x9d\\x93\\xf53\\xf2|\\x03\\x85\\xd6\\xb7\\x01\\x01'</th>\n",
       "      <td>1654.0</td>\n",
       "      <td>0.0</td>\n",
       "      <td>Finish</td>\n",
       "    </tr>\n",
       "    <tr>\n",
       "      <th>b'~|\\xc4,\\xc1\\xda \\x97Yo9\\xbe\\xebm\\xa1\\xd3V\\x10b\\xdf'</th>\n",
       "      <td>866.0</td>\n",
       "      <td>-310.0</td>\n",
       "      <td>Finish</td>\n",
       "    </tr>\n",
       "    <tr>\n",
       "      <th>b'~|\\xca&amp;\\xc6\\x91\\xd6\\x91xv{[x\\xe1=\\xf7\\xfc\\xac6Q'</th>\n",
       "      <td>100.0</td>\n",
       "      <td>0.0</td>\n",
       "      <td>Finish</td>\n",
       "    </tr>\n",
       "    <tr>\n",
       "      <th>b'~|\\xdd\\x0c\\x0cS\\xb75\\xaeI\\xb2\\xd6\\xa8R\\xdb\\x8e\\xad\\x1ar\\x92'</th>\n",
       "      <td>550.0</td>\n",
       "      <td>0.0</td>\n",
       "      <td>Finish</td>\n",
       "    </tr>\n",
       "    <tr>\n",
       "      <th>b'~|\\xf6\\x00\\xd9ecg\\xd5\\x03,s\\xd6s\\x18\\x98\\xa7#\\xbbm'</th>\n",
       "      <td>906.0</td>\n",
       "      <td>-100.0</td>\n",
       "      <td>Finish</td>\n",
       "    </tr>\n",
       "    <tr>\n",
       "      <th>b'~|\\xfa\\xf0\\xea\\x8b(\\xb1\\\\\\x00&gt;d]\\xf8x\\xf1\\x16@\\x84\\x97'</th>\n",
       "      <td>1286.0</td>\n",
       "      <td>-580.0</td>\n",
       "      <td>ReturnGoods</td>\n",
       "    </tr>\n",
       "    <tr>\n",
       "      <th>b'~|qk\\x93V:(\\xb5-G\\xbf\\xa5\\xc3\\xac\\xdf\\xe4U\\x91\\xca'</th>\n",
       "      <td>589.0</td>\n",
       "      <td>0.0</td>\n",
       "      <td>Overdue</td>\n",
       "    </tr>\n",
       "    <tr>\n",
       "      <th>b'~|}\\xe0\\x1f\\xf6\\xccD)\\x08\\x90\\xdd\\xa0i4\\xd9\\xdb\\xbc\\x02\\xf4'</th>\n",
       "      <td>996.0</td>\n",
       "      <td>0.0</td>\n",
       "      <td>Finish</td>\n",
       "    </tr>\n",
       "    <tr>\n",
       "      <th>b'~}*\\x1e\\xd0W\\xd0Y\\xad\\x11q\\t\\xb5?\\xba\\x13\\x84\\xb1\\xb5g'</th>\n",
       "      <td>512.0</td>\n",
       "      <td>0.0</td>\n",
       "      <td>Finish</td>\n",
       "    </tr>\n",
       "    <tr>\n",
       "      <th>b'~}\\xd3\\xefR\\xec4eM\\xa0\\xba\\xcd\\xb7\\xac&amp;\\xb6\\xeb\\x89\\x86\\x04'</th>\n",
       "      <td>1094.0</td>\n",
       "      <td>-150.0</td>\n",
       "      <td>Cancel</td>\n",
       "    </tr>\n",
       "    <tr>\n",
       "      <th>b'~}\\xecl\\xe7F\\xa0\\xc7p&lt;X\\x8f\\xb5scn;_\\xeb\\xc0'</th>\n",
       "      <td>499.0</td>\n",
       "      <td>0.0</td>\n",
       "      <td>Finish</td>\n",
       "    </tr>\n",
       "    <tr>\n",
       "      <th>b'~~=\\xa4\\x95\\xd7M\\x10\\xe1\\xe9\\xdc Z\\xad\\x7fU;\\x1dE\\xe7'</th>\n",
       "      <td>893.0</td>\n",
       "      <td>0.0</td>\n",
       "      <td>Finish</td>\n",
       "    </tr>\n",
       "    <tr>\n",
       "      <th>b'~~U\\xdbI^\\x06\\xf4\\x16\\x82\\xf9\\xd9\\xd2m\\x988\\xa3fn\\xea'</th>\n",
       "      <td>509.0</td>\n",
       "      <td>-150.0</td>\n",
       "      <td>Finish</td>\n",
       "    </tr>\n",
       "    <tr>\n",
       "      <th>b'~~UcMj\\xaf`\\x85\\xd3\\x84\\xf8\\xafz\\xc9$w\\xbaX\\x1d'</th>\n",
       "      <td>199.0</td>\n",
       "      <td>0.0</td>\n",
       "      <td>Finish</td>\n",
       "    </tr>\n",
       "    <tr>\n",
       "      <th>b'~~\\x03\\x84\\xcf\\x145\\x98\\xec\\xd3\\x02\\xab`\\x1e\\xe7n\\xf0@\\x1cx'</th>\n",
       "      <td>1603.0</td>\n",
       "      <td>-370.0</td>\n",
       "      <td>Finish</td>\n",
       "    </tr>\n",
       "    <tr>\n",
       "      <th>b'~~\\x19\\xa9\\xe80\\x0b\\xe1=Z\\x0f\\xc6/\\xfbfH\\x1c\\x18\\xa0\\x96'</th>\n",
       "      <td>1126.0</td>\n",
       "      <td>-231.0</td>\n",
       "      <td>Cancel</td>\n",
       "    </tr>\n",
       "    <tr>\n",
       "      <th>b'~~\\x1b_\\xdbM\\xda\\xb5(y/\\xdb\\xb3%\\xcdo\\x00\\x17\\xdah'</th>\n",
       "      <td>1190.0</td>\n",
       "      <td>-221.0</td>\n",
       "      <td>Finish</td>\n",
       "    </tr>\n",
       "    <tr>\n",
       "      <th>b'~~\\x9b\\x8c9\\xd5+\\xef\\xe7\\xb5\\xce\\x9dJM\\x07\\x12\\nI^F'</th>\n",
       "      <td>665.0</td>\n",
       "      <td>-814.0</td>\n",
       "      <td>Finish</td>\n",
       "    </tr>\n",
       "    <tr>\n",
       "      <th>b'~~\\xaeZ\\xee|\\xd4\\xf2SdO]\\x05\\x98!P\\xa2\\x8a?j'</th>\n",
       "      <td>249.0</td>\n",
       "      <td>0.0</td>\n",
       "      <td>Finish</td>\n",
       "    </tr>\n",
       "    <tr>\n",
       "      <th>b'~~\\xea`J\\x8e\\x96\\x99s\\x81U\\xe4J\\x88\\xef\\x18\\xe5\\x89:O'</th>\n",
       "      <td>690.0</td>\n",
       "      <td>0.0</td>\n",
       "      <td>Finish</td>\n",
       "    </tr>\n",
       "    <tr>\n",
       "      <th>b'~~\\xf3\\xb3\\x04E\\x90G\\xb2\\xeb\\xb7\\xcd\\xbc\\x82y\\x9c\\xbb\\xa3\\x0f6'</th>\n",
       "      <td>544.0</td>\n",
       "      <td>0.0</td>\n",
       "      <td>Finish</td>\n",
       "    </tr>\n",
       "    <tr>\n",
       "      <th>b'~~\\xf4&lt;rJ\\x1f\\xc5H\\xf8\\x9e\\x0e\\x05\\x06\\n\\xa3)k\\xf0u'</th>\n",
       "      <td>874.0</td>\n",
       "      <td>0.0</td>\n",
       "      <td>Finish</td>\n",
       "    </tr>\n",
       "    <tr>\n",
       "      <th>b'~~uJF\\xb1*0b\\x872bA\\xdf\\x13I\\x94\\x10,\\xef'</th>\n",
       "      <td>697.0</td>\n",
       "      <td>0.0</td>\n",
       "      <td>Cancel</td>\n",
       "    </tr>\n",
       "  </tbody>\n",
       "</table>\n",
       "<p>1343934 rows × 3 columns</p>\n",
       "</div>"
      ],
      "text/plain": [
       "                                                                   SalesOrderSlaveTotalPayment  \\\n",
       "DeliverTypeDef OrderGroupCode                                                                    \n",
       "Family         b\"  y!'[+Jr\\xd6\\xd2D@\\x1e\\xee\\x17lm\\xca\\xda\"                              837.0   \n",
       "               b\" #\\xa6'/\\x82\\xe7`\\xb6\\xb6\\xfd\\xa9p\\x9cIr\\x11\\...                        647.0   \n",
       "               b\" #\\xfeH\\xbc\\xeb2\\x1a\\xd8\\xd5n\\x0b'\\x0e6CEf\\xf6e\"                        690.0   \n",
       "               b\" $_\\xf1\\xaf\\xaa\\x11~\\x8c\\xe4nj\\xde#\\x06'\\xf7\\...                        500.0   \n",
       "               b\" ''\\xc9\\x13I\\x0e\\x88\\x13\\x95\\xb6\\x8f\\x0e\\xeb\\...                       2587.0   \n",
       "               b\" ')\\xdd\\x1e\\x0f\\x9d\\xf7\\x13\\x047l\\x98\\x84\\xba...                        507.0   \n",
       "               b\" ',\\xbb\\xd9\\xde\\x06\\t\\xc4\\x11ZP\\x89\\xdaU#\\xa6...                        582.0   \n",
       "               b\" '\\n\\x8b\\xdfh2\\xbe\\x82\\xf6\\x8f\\xea\\x1b\\x07\\xe...                        649.0   \n",
       "               b\" '\\x0b'\\xac<\\xb52\\x1ar\\xcfX\\x98:\\xa2\\xea\\xdf\\...                        796.0   \n",
       "               b\" '\\x15\\xa0\\x15\\xea\\x8f\\xc5\\xe6\\xedk\\xba\\x0cP\\...                        629.0   \n",
       "               b\" '|\\x06S\\xbed\\\\g\\x1a\\xca\\n-a\\x9e\\xe7\\x15DL\\xc9\"                        2636.0   \n",
       "               b\" ,B\\xd9C\\xcf*\\xa1',/\\xcb{\\xe6\\xf4z\\xbd\\xcc\\x8...                       1165.0   \n",
       "               b\" ,h\\xc0\\xe1\\x1d2\\x93)'\\xf2\\xfb\\xd7\\xf4\\xba\\xb...                        435.0   \n",
       "               b\" -\\x04\\x85\\xb6\\xd3'\\xf4\\x10\\xc2\\x01\\xd8\\xc2\\x...                        688.0   \n",
       "               b\" /\\x0f\\xa5\\xe7\\xa3?\\x87\\x19\\xe2D5\\n\\x1d'\\x05\\...                       2119.0   \n",
       "               b\" /\\xa1'\\xfd\\xd0b\\x94\\xa0q0\\n\\xee{h\\xd4\\xf7\\xd...                        698.0   \n",
       "               b\" 1_\\xc9\\xaf\\x15'\\x01\\\\\\xc2\\xebAq\\x1a\\x91\\xd60...                       1105.0   \n",
       "               b\" 2P(\\xd2\\xd2\\x05\\x81)n\\xa5\\x15\\xbb\\x9b'\\xd2K\\...                        868.0   \n",
       "               b\" 3\\x7f\\x87\\xfb\\x95\\xc3\\xfb\\xc7\\x86\\x8d\\x8cd\\x...                       1211.0   \n",
       "               b\" 50\\xf2\\xe9\\xbb\\xca'\\xfb\\x1a}\\x91\\xd1\\x94\\x0f...                        774.0   \n",
       "               b\" 5N\\x02'S\\xb0\\xf9\\x18\\xfeNP\\xe9h\\x0f\\xd1\\xc1x...                       1430.0   \n",
       "               b\" 6\\xb1^\\xf2S\\x18\\xe6\\xc9saU'#\\xb4Q\\xc9\\xac\\\\\\...                        450.0   \n",
       "               b\" 8\\x1e\\xf1/\\xdcB\\x0e't\\xe4\\xc5\\x0fy \\x0f\\x01H...                        295.0   \n",
       "               b\" 8\\xa7\\xd3\\x19\\x91\\x96q\\x13I.\\xac\\xb3\\xa9\\xe5...                        998.0   \n",
       "               b\" ?%J\\xfb\\xa9n\\x0b\\xa0%\\xa7\\xd8'\\x11\\xcf\\xf9\\x...                        529.0   \n",
       "               b\" ?'\\t1\\x9a\\xe5\\x96\\x99\\x94\\xe5q\\xa5j\\xf5\\xb1\\...                        739.0   \n",
       "               b\" @\\x1dZ\\xbd\\xc0\\xc5\\xaa\\xc0\\xa2\\xa1\\xba\\x0f'\\...                       1294.0   \n",
       "               b\" B\\x8a3\\x8f\\xfc\\xf2\\xa1\\x9ez\\x84\\xe9`\\x06tZ'\\...                        988.0   \n",
       "               b\" E\\xe6\\x1f\\x18E\\xac\\xf8\\xe9\\x88\\xf9\\xc3\\x19\\x...                       1515.0   \n",
       "               b\" Ed\\x1f>\\x01'\\x9c\\xa32]0\\x86\\xdcyr\\x8b{}b\"                              988.0   \n",
       "...                                                                                        ...   \n",
       "SevenEleven    b'~{\\xc7xt\\xe0Y\\xe04X\\xd0\\xe6S\\x1cc\\x1d\\xe4\\xd2...                        667.0   \n",
       "               b'~{\\xee\\xdc\\x92\\xb0x\\xe3w\\x1b\\xcf\\x17\\xcb\\xd5\\...                        298.0   \n",
       "               b'~{]|1c^/\\x9dG\\xd1\\xdc\\xe9#\\xa3Q)Aw\\xde'                                 548.0   \n",
       "               b'~{am\\xa6\\x06\\xe5\\xae\\x84\\xad\\xe3\\xaaU\\xdb\\xd9...                       1294.0   \n",
       "               b'~{p\\xe0\\x14^CT}\\xc6\\xa4\\x81\\xf0+\\nb\\xe5a\\xae('                          350.0   \n",
       "               b'~|\\x08\\x9bb\\xb7\\xe4H\\x8b\\xc1[\\xe5S\\xc8\\xf8\\xb...                       1107.0   \n",
       "               b'~|\\x17\\x1b\\xc4\\xe2\\xc3\\x84\\xae&V4\\x06S\\xc3\\xe...                        754.0   \n",
       "               b'~|\\x80\\x16*~:Y\\x9d\\x93\\xf53\\xf2|\\x03\\x85\\xd6\\...                       1654.0   \n",
       "               b'~|\\xc4,\\xc1\\xda \\x97Yo9\\xbe\\xebm\\xa1\\xd3V\\x10...                        866.0   \n",
       "               b'~|\\xca&\\xc6\\x91\\xd6\\x91xv{[x\\xe1=\\xf7\\xfc\\xac6Q'                        100.0   \n",
       "               b'~|\\xdd\\x0c\\x0cS\\xb75\\xaeI\\xb2\\xd6\\xa8R\\xdb\\x8...                        550.0   \n",
       "               b'~|\\xf6\\x00\\xd9ecg\\xd5\\x03,s\\xd6s\\x18\\x98\\xa7#...                        906.0   \n",
       "               b'~|\\xfa\\xf0\\xea\\x8b(\\xb1\\\\\\x00>d]\\xf8x\\xf1\\x16...                       1286.0   \n",
       "               b'~|qk\\x93V:(\\xb5-G\\xbf\\xa5\\xc3\\xac\\xdf\\xe4U\\x9...                        589.0   \n",
       "               b'~|}\\xe0\\x1f\\xf6\\xccD)\\x08\\x90\\xdd\\xa0i4\\xd9\\x...                        996.0   \n",
       "               b'~}*\\x1e\\xd0W\\xd0Y\\xad\\x11q\\t\\xb5?\\xba\\x13\\x84...                        512.0   \n",
       "               b'~}\\xd3\\xefR\\xec4eM\\xa0\\xba\\xcd\\xb7\\xac&\\xb6\\x...                       1094.0   \n",
       "               b'~}\\xecl\\xe7F\\xa0\\xc7p<X\\x8f\\xb5scn;_\\xeb\\xc0'                           499.0   \n",
       "               b'~~=\\xa4\\x95\\xd7M\\x10\\xe1\\xe9\\xdc Z\\xad\\x7fU;\\...                        893.0   \n",
       "               b'~~U\\xdbI^\\x06\\xf4\\x16\\x82\\xf9\\xd9\\xd2m\\x988\\x...                        509.0   \n",
       "               b'~~UcMj\\xaf`\\x85\\xd3\\x84\\xf8\\xafz\\xc9$w\\xbaX\\x1d'                        199.0   \n",
       "               b'~~\\x03\\x84\\xcf\\x145\\x98\\xec\\xd3\\x02\\xab`\\x1e\\...                       1603.0   \n",
       "               b'~~\\x19\\xa9\\xe80\\x0b\\xe1=Z\\x0f\\xc6/\\xfbfH\\x1c\\...                       1126.0   \n",
       "               b'~~\\x1b_\\xdbM\\xda\\xb5(y/\\xdb\\xb3%\\xcdo\\x00\\x17...                       1190.0   \n",
       "               b'~~\\x9b\\x8c9\\xd5+\\xef\\xe7\\xb5\\xce\\x9dJM\\x07\\x1...                        665.0   \n",
       "               b'~~\\xaeZ\\xee|\\xd4\\xf2SdO]\\x05\\x98!P\\xa2\\x8a?j'                           249.0   \n",
       "               b'~~\\xea`J\\x8e\\x96\\x99s\\x81U\\xe4J\\x88\\xef\\x18\\x...                        690.0   \n",
       "               b'~~\\xf3\\xb3\\x04E\\x90G\\xb2\\xeb\\xb7\\xcd\\xbc\\x82y...                        544.0   \n",
       "               b'~~\\xf4<rJ\\x1f\\xc5H\\xf8\\x9e\\x0e\\x05\\x06\\n\\xa3)...                        874.0   \n",
       "               b'~~uJF\\xb1*0b\\x872bA\\xdf\\x13I\\x94\\x10,\\xef'                              697.0   \n",
       "\n",
       "                                                                   PromotionDiscount  \\\n",
       "DeliverTypeDef OrderGroupCode                                                          \n",
       "Family         b\"  y!'[+Jr\\xd6\\xd2D@\\x1e\\xee\\x17lm\\xca\\xda\"                      0.0   \n",
       "               b\" #\\xa6'/\\x82\\xe7`\\xb6\\xb6\\xfd\\xa9p\\x9cIr\\x11\\...                0.0   \n",
       "               b\" #\\xfeH\\xbc\\xeb2\\x1a\\xd8\\xd5n\\x0b'\\x0e6CEf\\xf6e\"                0.0   \n",
       "               b\" $_\\xf1\\xaf\\xaa\\x11~\\x8c\\xe4nj\\xde#\\x06'\\xf7\\...             -129.0   \n",
       "               b\" ''\\xc9\\x13I\\x0e\\x88\\x13\\x95\\xb6\\x8f\\x0e\\xeb\\...             -289.0   \n",
       "               b\" ')\\xdd\\x1e\\x0f\\x9d\\xf7\\x13\\x047l\\x98\\x84\\xba...                0.0   \n",
       "               b\" ',\\xbb\\xd9\\xde\\x06\\t\\xc4\\x11ZP\\x89\\xdaU#\\xa6...                0.0   \n",
       "               b\" '\\n\\x8b\\xdfh2\\xbe\\x82\\xf6\\x8f\\xea\\x1b\\x07\\xe...                0.0   \n",
       "               b\" '\\x0b'\\xac<\\xb52\\x1ar\\xcfX\\x98:\\xa2\\xea\\xdf\\...                0.0   \n",
       "               b\" '\\x15\\xa0\\x15\\xea\\x8f\\xc5\\xe6\\xedk\\xba\\x0cP\\...                0.0   \n",
       "               b\" '|\\x06S\\xbed\\\\g\\x1a\\xca\\n-a\\x9e\\xe7\\x15DL\\xc9\"              -267.0   \n",
       "               b\" ,B\\xd9C\\xcf*\\xa1',/\\xcb{\\xe6\\xf4z\\xbd\\xcc\\x8...             -100.0   \n",
       "               b\" ,h\\xc0\\xe1\\x1d2\\x93)'\\xf2\\xfb\\xd7\\xf4\\xba\\xb...                0.0   \n",
       "               b\" -\\x04\\x85\\xb6\\xd3'\\xf4\\x10\\xc2\\x01\\xd8\\xc2\\x...                0.0   \n",
       "               b\" /\\x0f\\xa5\\xe7\\xa3?\\x87\\x19\\xe2D5\\n\\x1d'\\x05\\...             -556.0   \n",
       "               b\" /\\xa1'\\xfd\\xd0b\\x94\\xa0q0\\n\\xee{h\\xd4\\xf7\\xd...             -201.0   \n",
       "               b\" 1_\\xc9\\xaf\\x15'\\x01\\\\\\xc2\\xebAq\\x1a\\x91\\xd60...                0.0   \n",
       "               b\" 2P(\\xd2\\xd2\\x05\\x81)n\\xa5\\x15\\xbb\\x9b'\\xd2K\\...             -108.0   \n",
       "               b\" 3\\x7f\\x87\\xfb\\x95\\xc3\\xfb\\xc7\\x86\\x8d\\x8cd\\x...             -590.0   \n",
       "               b\" 50\\xf2\\xe9\\xbb\\xca'\\xfb\\x1a}\\x91\\xd1\\x94\\x0f...                0.0   \n",
       "               b\" 5N\\x02'S\\xb0\\xf9\\x18\\xfeNP\\xe9h\\x0f\\xd1\\xc1x...                0.0   \n",
       "               b\" 6\\xb1^\\xf2S\\x18\\xe6\\xc9saU'#\\xb4Q\\xc9\\xac\\\\\\...                0.0   \n",
       "               b\" 8\\x1e\\xf1/\\xdcB\\x0e't\\xe4\\xc5\\x0fy \\x0f\\x01H...                0.0   \n",
       "               b\" 8\\xa7\\xd3\\x19\\x91\\x96q\\x13I.\\xac\\xb3\\xa9\\xe5...             -100.0   \n",
       "               b\" ?%J\\xfb\\xa9n\\x0b\\xa0%\\xa7\\xd8'\\x11\\xcf\\xf9\\x...                0.0   \n",
       "               b\" ?'\\t1\\x9a\\xe5\\x96\\x99\\x94\\xe5q\\xa5j\\xf5\\xb1\\...                0.0   \n",
       "               b\" @\\x1dZ\\xbd\\xc0\\xc5\\xaa\\xc0\\xa2\\xa1\\xba\\x0f'\\...             -100.0   \n",
       "               b\" B\\x8a3\\x8f\\xfc\\xf2\\xa1\\x9ez\\x84\\xe9`\\x06tZ'\\...             -261.0   \n",
       "               b\" E\\xe6\\x1f\\x18E\\xac\\xf8\\xe9\\x88\\xf9\\xc3\\x19\\x...             -150.0   \n",
       "               b\" Ed\\x1f>\\x01'\\x9c\\xa32]0\\x86\\xdcyr\\x8b{}b\"                   -448.0   \n",
       "...                                                                              ...   \n",
       "SevenEleven    b'~{\\xc7xt\\xe0Y\\xe04X\\xd0\\xe6S\\x1cc\\x1d\\xe4\\xd2...             -231.0   \n",
       "               b'~{\\xee\\xdc\\x92\\xb0x\\xe3w\\x1b\\xcf\\x17\\xcb\\xd5\\...                0.0   \n",
       "               b'~{]|1c^/\\x9dG\\xd1\\xdc\\xe9#\\xa3Q)Aw\\xde'                         0.0   \n",
       "               b'~{am\\xa6\\x06\\xe5\\xae\\x84\\xad\\xe3\\xaaU\\xdb\\xd9...                0.0   \n",
       "               b'~{p\\xe0\\x14^CT}\\xc6\\xa4\\x81\\xf0+\\nb\\xe5a\\xae('                  0.0   \n",
       "               b'~|\\x08\\x9bb\\xb7\\xe4H\\x8b\\xc1[\\xe5S\\xc8\\xf8\\xb...             -100.0   \n",
       "               b'~|\\x17\\x1b\\xc4\\xe2\\xc3\\x84\\xae&V4\\x06S\\xc3\\xe...                0.0   \n",
       "               b'~|\\x80\\x16*~:Y\\x9d\\x93\\xf53\\xf2|\\x03\\x85\\xd6\\...                0.0   \n",
       "               b'~|\\xc4,\\xc1\\xda \\x97Yo9\\xbe\\xebm\\xa1\\xd3V\\x10...             -310.0   \n",
       "               b'~|\\xca&\\xc6\\x91\\xd6\\x91xv{[x\\xe1=\\xf7\\xfc\\xac6Q'                0.0   \n",
       "               b'~|\\xdd\\x0c\\x0cS\\xb75\\xaeI\\xb2\\xd6\\xa8R\\xdb\\x8...                0.0   \n",
       "               b'~|\\xf6\\x00\\xd9ecg\\xd5\\x03,s\\xd6s\\x18\\x98\\xa7#...             -100.0   \n",
       "               b'~|\\xfa\\xf0\\xea\\x8b(\\xb1\\\\\\x00>d]\\xf8x\\xf1\\x16...             -580.0   \n",
       "               b'~|qk\\x93V:(\\xb5-G\\xbf\\xa5\\xc3\\xac\\xdf\\xe4U\\x9...                0.0   \n",
       "               b'~|}\\xe0\\x1f\\xf6\\xccD)\\x08\\x90\\xdd\\xa0i4\\xd9\\x...                0.0   \n",
       "               b'~}*\\x1e\\xd0W\\xd0Y\\xad\\x11q\\t\\xb5?\\xba\\x13\\x84...                0.0   \n",
       "               b'~}\\xd3\\xefR\\xec4eM\\xa0\\xba\\xcd\\xb7\\xac&\\xb6\\x...             -150.0   \n",
       "               b'~}\\xecl\\xe7F\\xa0\\xc7p<X\\x8f\\xb5scn;_\\xeb\\xc0'                   0.0   \n",
       "               b'~~=\\xa4\\x95\\xd7M\\x10\\xe1\\xe9\\xdc Z\\xad\\x7fU;\\...                0.0   \n",
       "               b'~~U\\xdbI^\\x06\\xf4\\x16\\x82\\xf9\\xd9\\xd2m\\x988\\x...             -150.0   \n",
       "               b'~~UcMj\\xaf`\\x85\\xd3\\x84\\xf8\\xafz\\xc9$w\\xbaX\\x1d'                0.0   \n",
       "               b'~~\\x03\\x84\\xcf\\x145\\x98\\xec\\xd3\\x02\\xab`\\x1e\\...             -370.0   \n",
       "               b'~~\\x19\\xa9\\xe80\\x0b\\xe1=Z\\x0f\\xc6/\\xfbfH\\x1c\\...             -231.0   \n",
       "               b'~~\\x1b_\\xdbM\\xda\\xb5(y/\\xdb\\xb3%\\xcdo\\x00\\x17...             -221.0   \n",
       "               b'~~\\x9b\\x8c9\\xd5+\\xef\\xe7\\xb5\\xce\\x9dJM\\x07\\x1...             -814.0   \n",
       "               b'~~\\xaeZ\\xee|\\xd4\\xf2SdO]\\x05\\x98!P\\xa2\\x8a?j'                   0.0   \n",
       "               b'~~\\xea`J\\x8e\\x96\\x99s\\x81U\\xe4J\\x88\\xef\\x18\\x...                0.0   \n",
       "               b'~~\\xf3\\xb3\\x04E\\x90G\\xb2\\xeb\\xb7\\xcd\\xbc\\x82y...                0.0   \n",
       "               b'~~\\xf4<rJ\\x1f\\xc5H\\xf8\\x9e\\x0e\\x05\\x06\\n\\xa3)...                0.0   \n",
       "               b'~~uJF\\xb1*0b\\x872bA\\xdf\\x13I\\x94\\x10,\\xef'                      0.0   \n",
       "\n",
       "                                                                     StatusDef  \n",
       "DeliverTypeDef OrderGroupCode                                                   \n",
       "Family         b\"  y!'[+Jr\\xd6\\xd2D@\\x1e\\xee\\x17lm\\xca\\xda\"             Finish  \n",
       "               b\" #\\xa6'/\\x82\\xe7`\\xb6\\xb6\\xfd\\xa9p\\x9cIr\\x11\\...       Cancel  \n",
       "               b\" #\\xfeH\\xbc\\xeb2\\x1a\\xd8\\xd5n\\x0b'\\x0e6CEf\\xf6e\"       Finish  \n",
       "               b\" $_\\xf1\\xaf\\xaa\\x11~\\x8c\\xe4nj\\xde#\\x06'\\xf7\\...       Finish  \n",
       "               b\" ''\\xc9\\x13I\\x0e\\x88\\x13\\x95\\xb6\\x8f\\x0e\\xeb\\...       Finish  \n",
       "               b\" ')\\xdd\\x1e\\x0f\\x9d\\xf7\\x13\\x047l\\x98\\x84\\xba...       Finish  \n",
       "               b\" ',\\xbb\\xd9\\xde\\x06\\t\\xc4\\x11ZP\\x89\\xdaU#\\xa6...       Finish  \n",
       "               b\" '\\n\\x8b\\xdfh2\\xbe\\x82\\xf6\\x8f\\xea\\x1b\\x07\\xe...       Cancel  \n",
       "               b\" '\\x0b'\\xac<\\xb52\\x1ar\\xcfX\\x98:\\xa2\\xea\\xdf\\...       Finish  \n",
       "               b\" '\\x15\\xa0\\x15\\xea\\x8f\\xc5\\xe6\\xedk\\xba\\x0cP\\...       Finish  \n",
       "               b\" '|\\x06S\\xbed\\\\g\\x1a\\xca\\n-a\\x9e\\xe7\\x15DL\\xc9\"        Finish  \n",
       "               b\" ,B\\xd9C\\xcf*\\xa1',/\\xcb{\\xe6\\xf4z\\xbd\\xcc\\x8...       Finish  \n",
       "               b\" ,h\\xc0\\xe1\\x1d2\\x93)'\\xf2\\xfb\\xd7\\xf4\\xba\\xb...      Overdue  \n",
       "               b\" -\\x04\\x85\\xb6\\xd3'\\xf4\\x10\\xc2\\x01\\xd8\\xc2\\x...      Overdue  \n",
       "               b\" /\\x0f\\xa5\\xe7\\xa3?\\x87\\x19\\xe2D5\\n\\x1d'\\x05\\...       Finish  \n",
       "               b\" /\\xa1'\\xfd\\xd0b\\x94\\xa0q0\\n\\xee{h\\xd4\\xf7\\xd...       Finish  \n",
       "               b\" 1_\\xc9\\xaf\\x15'\\x01\\\\\\xc2\\xebAq\\x1a\\x91\\xd60...      Overdue  \n",
       "               b\" 2P(\\xd2\\xd2\\x05\\x81)n\\xa5\\x15\\xbb\\x9b'\\xd2K\\...       Finish  \n",
       "               b\" 3\\x7f\\x87\\xfb\\x95\\xc3\\xfb\\xc7\\x86\\x8d\\x8cd\\x...      Overdue  \n",
       "               b\" 50\\xf2\\xe9\\xbb\\xca'\\xfb\\x1a}\\x91\\xd1\\x94\\x0f...       Finish  \n",
       "               b\" 5N\\x02'S\\xb0\\xf9\\x18\\xfeNP\\xe9h\\x0f\\xd1\\xc1x...       Finish  \n",
       "               b\" 6\\xb1^\\xf2S\\x18\\xe6\\xc9saU'#\\xb4Q\\xc9\\xac\\\\\\...       Finish  \n",
       "               b\" 8\\x1e\\xf1/\\xdcB\\x0e't\\xe4\\xc5\\x0fy \\x0f\\x01H...       Cancel  \n",
       "               b\" 8\\xa7\\xd3\\x19\\x91\\x96q\\x13I.\\xac\\xb3\\xa9\\xe5...       Finish  \n",
       "               b\" ?%J\\xfb\\xa9n\\x0b\\xa0%\\xa7\\xd8'\\x11\\xcf\\xf9\\x...       Cancel  \n",
       "               b\" ?'\\t1\\x9a\\xe5\\x96\\x99\\x94\\xe5q\\xa5j\\xf5\\xb1\\...       Finish  \n",
       "               b\" @\\x1dZ\\xbd\\xc0\\xc5\\xaa\\xc0\\xa2\\xa1\\xba\\x0f'\\...       Finish  \n",
       "               b\" B\\x8a3\\x8f\\xfc\\xf2\\xa1\\x9ez\\x84\\xe9`\\x06tZ'\\...       Finish  \n",
       "               b\" E\\xe6\\x1f\\x18E\\xac\\xf8\\xe9\\x88\\xf9\\xc3\\x19\\x...       Finish  \n",
       "               b\" Ed\\x1f>\\x01'\\x9c\\xa32]0\\x86\\xdcyr\\x8b{}b\"        ReturnGoods  \n",
       "...                                                                        ...  \n",
       "SevenEleven    b'~{\\xc7xt\\xe0Y\\xe04X\\xd0\\xe6S\\x1cc\\x1d\\xe4\\xd2...      Overdue  \n",
       "               b'~{\\xee\\xdc\\x92\\xb0x\\xe3w\\x1b\\xcf\\x17\\xcb\\xd5\\...       Finish  \n",
       "               b'~{]|1c^/\\x9dG\\xd1\\xdc\\xe9#\\xa3Q)Aw\\xde'                Cancel  \n",
       "               b'~{am\\xa6\\x06\\xe5\\xae\\x84\\xad\\xe3\\xaaU\\xdb\\xd9...       Finish  \n",
       "               b'~{p\\xe0\\x14^CT}\\xc6\\xa4\\x81\\xf0+\\nb\\xe5a\\xae('         Finish  \n",
       "               b'~|\\x08\\x9bb\\xb7\\xe4H\\x8b\\xc1[\\xe5S\\xc8\\xf8\\xb...       Finish  \n",
       "               b'~|\\x17\\x1b\\xc4\\xe2\\xc3\\x84\\xae&V4\\x06S\\xc3\\xe...       Finish  \n",
       "               b'~|\\x80\\x16*~:Y\\x9d\\x93\\xf53\\xf2|\\x03\\x85\\xd6\\...       Finish  \n",
       "               b'~|\\xc4,\\xc1\\xda \\x97Yo9\\xbe\\xebm\\xa1\\xd3V\\x10...       Finish  \n",
       "               b'~|\\xca&\\xc6\\x91\\xd6\\x91xv{[x\\xe1=\\xf7\\xfc\\xac6Q'       Finish  \n",
       "               b'~|\\xdd\\x0c\\x0cS\\xb75\\xaeI\\xb2\\xd6\\xa8R\\xdb\\x8...       Finish  \n",
       "               b'~|\\xf6\\x00\\xd9ecg\\xd5\\x03,s\\xd6s\\x18\\x98\\xa7#...       Finish  \n",
       "               b'~|\\xfa\\xf0\\xea\\x8b(\\xb1\\\\\\x00>d]\\xf8x\\xf1\\x16...  ReturnGoods  \n",
       "               b'~|qk\\x93V:(\\xb5-G\\xbf\\xa5\\xc3\\xac\\xdf\\xe4U\\x9...      Overdue  \n",
       "               b'~|}\\xe0\\x1f\\xf6\\xccD)\\x08\\x90\\xdd\\xa0i4\\xd9\\x...       Finish  \n",
       "               b'~}*\\x1e\\xd0W\\xd0Y\\xad\\x11q\\t\\xb5?\\xba\\x13\\x84...       Finish  \n",
       "               b'~}\\xd3\\xefR\\xec4eM\\xa0\\xba\\xcd\\xb7\\xac&\\xb6\\x...       Cancel  \n",
       "               b'~}\\xecl\\xe7F\\xa0\\xc7p<X\\x8f\\xb5scn;_\\xeb\\xc0'          Finish  \n",
       "               b'~~=\\xa4\\x95\\xd7M\\x10\\xe1\\xe9\\xdc Z\\xad\\x7fU;\\...       Finish  \n",
       "               b'~~U\\xdbI^\\x06\\xf4\\x16\\x82\\xf9\\xd9\\xd2m\\x988\\x...       Finish  \n",
       "               b'~~UcMj\\xaf`\\x85\\xd3\\x84\\xf8\\xafz\\xc9$w\\xbaX\\x1d'       Finish  \n",
       "               b'~~\\x03\\x84\\xcf\\x145\\x98\\xec\\xd3\\x02\\xab`\\x1e\\...       Finish  \n",
       "               b'~~\\x19\\xa9\\xe80\\x0b\\xe1=Z\\x0f\\xc6/\\xfbfH\\x1c\\...       Cancel  \n",
       "               b'~~\\x1b_\\xdbM\\xda\\xb5(y/\\xdb\\xb3%\\xcdo\\x00\\x17...       Finish  \n",
       "               b'~~\\x9b\\x8c9\\xd5+\\xef\\xe7\\xb5\\xce\\x9dJM\\x07\\x1...       Finish  \n",
       "               b'~~\\xaeZ\\xee|\\xd4\\xf2SdO]\\x05\\x98!P\\xa2\\x8a?j'          Finish  \n",
       "               b'~~\\xea`J\\x8e\\x96\\x99s\\x81U\\xe4J\\x88\\xef\\x18\\x...       Finish  \n",
       "               b'~~\\xf3\\xb3\\x04E\\x90G\\xb2\\xeb\\xb7\\xcd\\xbc\\x82y...       Finish  \n",
       "               b'~~\\xf4<rJ\\x1f\\xc5H\\xf8\\x9e\\x0e\\x05\\x06\\n\\xa3)...       Finish  \n",
       "               b'~~uJF\\xb1*0b\\x872bA\\xdf\\x13I\\x94\\x10,\\xef'             Cancel  \n",
       "\n",
       "[1343934 rows x 3 columns]"
      ]
     },
     "execution_count": 10,
     "metadata": {},
     "output_type": "execute_result"
    }
   ],
   "source": [
    "cart_df"
   ]
  },
  {
   "cell_type": "code",
   "execution_count": 21,
   "metadata": {},
   "outputs": [],
   "source": [
    "sevenEleven_data = cart_df.groupby(['DeliverTypeDef']).get_group('SevenEleven')"
   ]
  },
  {
   "cell_type": "code",
   "execution_count": 22,
   "metadata": {},
   "outputs": [
    {
     "data": {
      "text/html": [
       "<div>\n",
       "<style scoped>\n",
       "    .dataframe tbody tr th:only-of-type {\n",
       "        vertical-align: middle;\n",
       "    }\n",
       "\n",
       "    .dataframe tbody tr th {\n",
       "        vertical-align: top;\n",
       "    }\n",
       "\n",
       "    .dataframe thead th {\n",
       "        text-align: right;\n",
       "    }\n",
       "</style>\n",
       "<table border=\"1\" class=\"dataframe\">\n",
       "  <thead>\n",
       "    <tr style=\"text-align: right;\">\n",
       "      <th></th>\n",
       "      <th></th>\n",
       "      <th>SalesOrderSlaveTotalPayment</th>\n",
       "      <th>PromotionDiscount</th>\n",
       "      <th>StatusDef</th>\n",
       "    </tr>\n",
       "    <tr>\n",
       "      <th>DeliverTypeDef</th>\n",
       "      <th>OrderGroupCode</th>\n",
       "      <th></th>\n",
       "      <th></th>\n",
       "      <th></th>\n",
       "    </tr>\n",
       "  </thead>\n",
       "  <tbody>\n",
       "    <tr>\n",
       "      <th rowspan=\"3\" valign=\"top\">SevenEleven</th>\n",
       "      <th>b\" $\\x9f\\x86M@m'\\xaf\\x90Z\\x9f\\x10Eko \\xeb\\xa7\\xc3\"</th>\n",
       "      <td>921.0</td>\n",
       "      <td>-140.0</td>\n",
       "      <td>Finish</td>\n",
       "    </tr>\n",
       "    <tr>\n",
       "      <th>b\" $\\xe1\\x81\\xef\\x9c\\xa4h]\\t5-\\xcf'+[\\xfe\\x97\\xc3+\"</th>\n",
       "      <td>1583.0</td>\n",
       "      <td>-100.0</td>\n",
       "      <td>Finish</td>\n",
       "    </tr>\n",
       "    <tr>\n",
       "      <th>b\" $\\xfd3\\x83e\\x8a\\x0b'W/\\x9f\\xee\\xdb^ \\xe2\\xcex}\"</th>\n",
       "      <td>520.0</td>\n",
       "      <td>0.0</td>\n",
       "      <td>Finish</td>\n",
       "    </tr>\n",
       "  </tbody>\n",
       "</table>\n",
       "</div>"
      ],
      "text/plain": [
       "                                                                   SalesOrderSlaveTotalPayment  \\\n",
       "DeliverTypeDef OrderGroupCode                                                                    \n",
       "SevenEleven    b\" $\\x9f\\x86M@m'\\xaf\\x90Z\\x9f\\x10Eko \\xeb\\xa7\\xc3\"                        921.0   \n",
       "               b\" $\\xe1\\x81\\xef\\x9c\\xa4h]\\t5-\\xcf'+[\\xfe\\x97\\x...                       1583.0   \n",
       "               b\" $\\xfd3\\x83e\\x8a\\x0b'W/\\x9f\\xee\\xdb^ \\xe2\\xcex}\"                        520.0   \n",
       "\n",
       "                                                                   PromotionDiscount  \\\n",
       "DeliverTypeDef OrderGroupCode                                                          \n",
       "SevenEleven    b\" $\\x9f\\x86M@m'\\xaf\\x90Z\\x9f\\x10Eko \\xeb\\xa7\\xc3\"             -140.0   \n",
       "               b\" $\\xe1\\x81\\xef\\x9c\\xa4h]\\t5-\\xcf'+[\\xfe\\x97\\x...             -100.0   \n",
       "               b\" $\\xfd3\\x83e\\x8a\\x0b'W/\\x9f\\xee\\xdb^ \\xe2\\xcex}\"                0.0   \n",
       "\n",
       "                                                                  StatusDef  \n",
       "DeliverTypeDef OrderGroupCode                                                \n",
       "SevenEleven    b\" $\\x9f\\x86M@m'\\xaf\\x90Z\\x9f\\x10Eko \\xeb\\xa7\\xc3\"    Finish  \n",
       "               b\" $\\xe1\\x81\\xef\\x9c\\xa4h]\\t5-\\xcf'+[\\xfe\\x97\\x...    Finish  \n",
       "               b\" $\\xfd3\\x83e\\x8a\\x0b'W/\\x9f\\xee\\xdb^ \\xe2\\xcex}\"    Finish  "
      ]
     },
     "execution_count": 22,
     "metadata": {},
     "output_type": "execute_result"
    }
   ],
   "source": [
    "sevenEleven_data.head(3)"
   ]
  },
  {
   "cell_type": "code",
   "execution_count": 26,
   "metadata": {
    "scrolled": true
   },
   "outputs": [
    {
     "name": "stdout",
     "output_type": "stream",
     "text": [
      "936.2724328009691\n",
      "-97.60338794412533\n",
      "Finish               566187\n",
      "Cancel                99677\n",
      "Overdue               46606\n",
      "ReturnGoods           29572\n",
      "WaitingToShipping       119\n",
      "Name: StatusDef, dtype: int64\n"
     ]
    }
   ],
   "source": [
    "sevenEleven_avg_payment = sevenEleven_data[\"SalesOrderSlaveTotalPayment\"].mean()\n",
    "sevenEleven_avg_discount = sevenEleven_data[\"PromotionDiscount\"].mean()\n",
    "sevenEleven_value_counts = sevenEleven_data[\"StatusDef\"].value_counts()\n",
    "print(sevenEleven_avg_payment)\n",
    "print(sevenEleven_avg_discount)\n",
    "print(sevenEleven_value_counts)"
   ]
  },
  {
   "cell_type": "code",
   "execution_count": 27,
   "metadata": {},
   "outputs": [],
   "source": [
    "family_data = cart_df.groupby(['DeliverTypeDef']).get_group('Family')"
   ]
  },
  {
   "cell_type": "code",
   "execution_count": 28,
   "metadata": {},
   "outputs": [
    {
     "name": "stdout",
     "output_type": "stream",
     "text": [
      "950.5401928560975\n",
      "-100.74252959486772\n",
      "Finish               375253\n",
      "Cancel                73629\n",
      "Overdue               34848\n",
      "ReturnGoods           21857\n",
      "WaitingToShipping        75\n",
      "Name: StatusDef, dtype: int64\n"
     ]
    }
   ],
   "source": [
    "family_avg_payment = family_data[\"SalesOrderSlaveTotalPayment\"].mean()\n",
    "family_avg_discount = family_data[\"PromotionDiscount\"].mean()\n",
    "family_value_counts = family_data[\"StatusDef\"].value_counts()\n",
    "print(family_avg_payment)\n",
    "print(family_avg_discount)\n",
    "print(family_value_counts)"
   ]
  },
  {
   "cell_type": "code",
   "execution_count": 16,
   "metadata": {},
   "outputs": [],
   "source": [
    "home_data = cart_df.groupby(['DeliverTypeDef']).get_group('Home')"
   ]
  },
  {
   "cell_type": "code",
   "execution_count": 29,
   "metadata": {},
   "outputs": [
    {
     "name": "stdout",
     "output_type": "stream",
     "text": [
      "1235.1203192142418\n",
      "-153.24889970971066\n",
      "Finish               77198\n",
      "ReturnGoods          10337\n",
      "Cancel                8419\n",
      "CreditCheckFail        151\n",
      "WaitingToShipping        6\n",
      "Name: StatusDef, dtype: int64\n"
     ]
    }
   ],
   "source": [
    "home_avg_payment = home_data[\"SalesOrderSlaveTotalPayment\"].mean()\n",
    "home_avg_discount = home_data[\"PromotionDiscount\"].mean()\n",
    "home_value_counts = home_data[\"StatusDef\"].value_counts()\n",
    "print(home_avg_payment)\n",
    "print(home_avg_discount)\n",
    "print(home_value_counts)"
   ]
  },
  {
   "cell_type": "code",
   "execution_count": 18,
   "metadata": {},
   "outputs": [
    {
     "data": {
      "text/plain": [
       "([<matplotlib.axis.XTick at 0x11036f4e0>,\n",
       "  <matplotlib.axis.XTick at 0x110358dd8>,\n",
       "  <matplotlib.axis.XTick at 0x110358b00>],\n",
       " <a list of 3 Text xticklabel objects>)"
      ]
     },
     "execution_count": 18,
     "metadata": {},
     "output_type": "execute_result"
    },
    {
     "data": {
      "image/png": "[encoded data removed]",
      "text/plain": [
       "<Figure size 432x288 with 1 Axes>"
      ]
     },
     "metadata": {},
     "output_type": "display_data"
    }
   ],
   "source": [
    "N = 3\n",
    "totalPaymentMeans = (sevenEleven_avg_payment, family_avg_payment, home_avg_payment)\n",
    "discountMeans = (-sevenEleven_avg_discount, -family_avg_discount, -home_avg_discount)\n",
    "ind = np.arange(N)    # the x locations for the groups\n",
    "width = 0.35       # the width of the bars: can also be len(x) sequence\n",
    "\n",
    "p1 = plt.bar(ind, totalPaymentMeans, width)\n",
    "p2 = plt.bar(ind, discountMeans, width,\n",
    "             bottom=totalPaymentMeans)\n",
    "\n",
    "plt.ylabel('Average Payment')\n",
    "plt.xlabel(\"Deliver Type\")\n",
    "plt.title(\"Average Payment of Different Deliver Type\")\n",
    "plt.xticks(ind, ('7-11', 'Family', 'Home'))"
   ]
  },
  {
   "cell_type": "code",
   "execution_count": 68,
   "metadata": {},
   "outputs": [],
   "source": [
    "pie_lables = ['Finish', 'Overdue', 'Cancel', 'ReturnGoods', 'WaitingToShipping', 'CreditCheckFail']"
   ]
  },
  {
   "cell_type": "code",
   "execution_count": 69,
   "metadata": {},
   "outputs": [],
   "source": [
    "def getStatusDefCounts(statusDef):\n",
    "    data = eval(statusDef + \"_value_counts\")\n",
    "    array = eval(statusDef + \"_size\")\n",
    "    for key in pie_lables:\n",
    "        try:\n",
    "            array.append(data[key])\n",
    "        except:\n",
    "            array.append(0)\n",
    "            print(\"no \" + key + \" key\")"
   ]
  },
  {
   "cell_type": "code",
   "execution_count": 70,
   "metadata": {},
   "outputs": [
    {
     "name": "stdout",
     "output_type": "stream",
     "text": [
      "no CreditCheckFail key\n"
     ]
    },
    {
     "data": {
      "text/plain": [
       "[566187, 46606, 99677, 29572, 119, 0]"
      ]
     },
     "execution_count": 70,
     "metadata": {},
     "output_type": "execute_result"
    }
   ],
   "source": [
    "sevenEleven_size = []\n",
    "getStatusDefCounts(\"sevenEleven\")\n",
    "sevenEleven_size"
   ]
  },
  {
   "cell_type": "code",
   "execution_count": 71,
   "metadata": {},
   "outputs": [
    {
     "name": "stdout",
     "output_type": "stream",
     "text": [
      "no CreditCheckFail key\n"
     ]
    },
    {
     "data": {
      "text/plain": [
       "[375253, 34848, 73629, 21857, 75, 0]"
      ]
     },
     "execution_count": 71,
     "metadata": {},
     "output_type": "execute_result"
    }
   ],
   "source": [
    "family_size = []\n",
    "getStatusDefCounts(\"family\")\n",
    "family_size"
   ]
  },
  {
   "cell_type": "code",
   "execution_count": 72,
   "metadata": {},
   "outputs": [
    {
     "name": "stdout",
     "output_type": "stream",
     "text": [
      "no Overdue key\n"
     ]
    },
    {
     "data": {
      "text/plain": [
       "[77198, 0, 8419, 10337, 6, 151]"
      ]
     },
     "execution_count": 72,
     "metadata": {},
     "output_type": "execute_result"
    }
   ],
   "source": [
    "home_size = []\n",
    "getStatusDefCounts(\"home\")\n",
    "home_size"
   ]
  },
  {
   "cell_type": "code",
   "execution_count": 74,
   "metadata": {},
   "outputs": [
    {
     "data": {
      "text/plain": [
       "([<matplotlib.patches.Wedge at 0x122c1d6a0>,\n",
       "  <matplotlib.patches.Wedge at 0x122c1dda0>,\n",
       "  <matplotlib.patches.Wedge at 0x122c26518>,\n",
       "  <matplotlib.patches.Wedge at 0x122c26cc0>,\n",
       "  <matplotlib.patches.Wedge at 0x122c2e4a8>,\n",
       "  <matplotlib.patches.Wedge at 0x122c2ec50>],\n",
       " [Text(-0.808668,0.745691,'Finish'),\n",
       "  Text(0.302165,-1.05768,'Overdue'),\n",
       "  Text(0.859944,-0.685928,'Cancel'),\n",
       "  Text(1.09125,-0.138437,'ReturnGoods'),\n",
       "  Text(1.1,-0.000554011,'WaitingToShipping'),\n",
       "  Text(1.1,9.34347e-08,'CreditCheckFail')],\n",
       " [Text(-0.441092,0.406741,'76.3%'),\n",
       "  Text(0.164818,-0.576919,'6.3%'),\n",
       "  Text(0.46906,-0.374142,'13.4%'),\n",
       "  Text(0.595229,-0.0755112,'4.0%'),\n",
       "  Text(0.6,-0.000302188,'0.0%'),\n",
       "  Text(0.6,5.09644e-08,'0.0%')])"
      ]
     },
     "execution_count": 74,
     "metadata": {},
     "output_type": "execute_result"
    },
    {
     "data": {
      "image/png": "[encoded data removed]",
      "text/plain": [
       "<Figure size 432x288 with 1 Axes>"
      ]
     },
     "metadata": {},
     "output_type": "display_data"
    }
   ],
   "source": [
    "plt.pie(sevenEleven_size , labels = pie_lables, autopct='%1.1f%%')"
   ]
  },
  {
   "cell_type": "code",
   "execution_count": 75,
   "metadata": {},
   "outputs": [
    {
     "data": {
      "text/plain": [
       "([<matplotlib.patches.Wedge at 0x1233ab5c0>,\n",
       "  <matplotlib.patches.Wedge at 0x1233abcc0>,\n",
       "  <matplotlib.patches.Wedge at 0x1233b5400>,\n",
       "  <matplotlib.patches.Wedge at 0x1233b5b00>,\n",
       "  <matplotlib.patches.Wedge at 0x1233bf240>,\n",
       "  <matplotlib.patches.Wedge at 0x1233bf940>],\n",
       " [Text(-0.758282,0.796874,'Finish'),\n",
       "  Text(0.18272,-1.08472,'Overdue'),\n",
       "  Text(0.819718,-0.733527,'Cancel'),\n",
       "  Text(1.08973,-0.14993,'ReturnGoods'),\n",
       "  Text(1.1,-0.000512469,'WaitingToShipping'),\n",
       "  Text(1.1,8.911e-08,'CreditCheckFail')],\n",
       " [Text(-0.413608,0.434659,'74.2%'),\n",
       "  Text(0.0996656,-0.591664,'6.9%'),\n",
       "  Text(0.447119,-0.400106,'14.6%'),\n",
       "  Text(0.594401,-0.0817801,'4.3%'),\n",
       "  Text(0.6,-0.000279529,'0.0%'),\n",
       "  Text(0.6,4.86055e-08,'0.0%')])"
      ]
     },
     "execution_count": 75,
     "metadata": {},
     "output_type": "execute_result"
    },
    {
     "data": {
      "image/png": "[encoded data removed]",
      "text/plain": [
       "<Figure size 432x288 with 1 Axes>"
      ]
     },
     "metadata": {},
     "output_type": "display_data"
    }
   ],
   "source": [
    "plt.pie(family_size , labels = pie_lables, autopct='%1.1f%%')"
   ]
  },
  {
   "cell_type": "code",
   "execution_count": 76,
   "metadata": {},
   "outputs": [
    {
     "data": {
      "text/plain": [
       "([<matplotlib.patches.Wedge at 0x12353d0b8>,\n",
       "  <matplotlib.patches.Wedge at 0x12353d7f0>,\n",
       "  <matplotlib.patches.Wedge at 0x12353df98>,\n",
       "  <matplotlib.patches.Wedge at 0x123545780>,\n",
       "  <matplotlib.patches.Wedge at 0x123545f28>,\n",
       "  <matplotlib.patches.Wedge at 0x1235af710>],\n",
       " [Text(-0.896408,0.637537,'Finish'),\n",
       "  Text(0.360995,-1.03908,'Overdue'),\n",
       "  Text(0.629763,-0.901886,'Cancel'),\n",
       "  Text(1.03401,-0.375276,'ReturnGoods'),\n",
       "  Text(1.09994,-0.0110742,'WaitingToShipping'),\n",
       "  Text(1.09999,-0.00542934,'CreditCheckFail')],\n",
       " [Text(-0.48895,0.347747,'80.3%'),\n",
       "  Text(0.196906,-0.56677,'0.0%'),\n",
       "  Text(0.343507,-0.491938,'8.8%'),\n",
       "  Text(0.564003,-0.204696,'10.8%'),\n",
       "  Text(0.59997,-0.0060405,'0.0%'),\n",
       "  Text(0.599993,-0.00296146,'0.2%')])"
      ]
     },
     "execution_count": 76,
     "metadata": {},
     "output_type": "execute_result"
    },
    {
     "data": {
      "image/png": "[encoded data removed]",
      "text/plain": [
       "<Figure size 432x288 with 1 Axes>"
      ]
     },
     "metadata": {},
     "output_type": "display_data"
    }
   ],
   "source": [
    "plt.pie(home_size , labels = pie_lables, autopct='%1.1f%%')"
   ]
  },
  {
   "cell_type": "code",
   "execution_count": null,
   "metadata": {},
   "outputs": [],
   "source": []
  }
 ],
 "metadata": {
  "kernelspec": {
   "display_name": "Python 3",
   "language": "python",
   "name": "python3"
  },
  "language_info": {
   "codemirror_mode": {
    "name": "ipython",
    "version": 3
   },
   "file_extension": ".py",
   "mimetype": "text/x-python",
   "name": "python",
   "nbconvert_exporter": "python",
   "pygments_lexer": "ipython3",
   "version": "3.6.5"
  }
 },
 "nbformat": 4,
 "nbformat_minor": 2
}
